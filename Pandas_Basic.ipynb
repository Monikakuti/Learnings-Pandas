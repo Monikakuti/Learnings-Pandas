{
 "cells": [
  {
   "cell_type": "code",
   "execution_count": null,
   "id": "742be3a7",
   "metadata": {},
   "outputs": [],
   "source": [
    "'''Pandas is one of the most powerful libraries in Python for data manipulation and analysis. It allows you to easily load, process, and analyze data in structured formats like CSV, Excel, SQL, JSON, and more. In data science, it’s used to clean, transform, and visualize data for deeper insights.\n",
    "\n",
    "Let’s break it down into simple steps to understand how you can use Pandas for data science! 📊🔍\n",
    "\n",
    "🧠 Core Concepts of Pandas\n",
    "Series: A one-dimensional array (like a column in a table).\n",
    "\n",
    "DataFrame: A two-dimensional table (like a spreadsheet or a database table) made of rows and columns.'''\n",
    "\n",
    "#1. Installing Pandas\n",
    "!pip install pandas\n",
    "\n",
    "#2. Importing Pandas\n",
    "import pandas as pd"
   ]
  },
  {
   "cell_type": "code",
   "execution_count": 1,
   "id": "9297ffb4",
   "metadata": {},
   "outputs": [
    {
     "name": "stdout",
     "output_type": "stream",
     "text": [
      "      Name  Age         City\n",
      "0    Alice   25     New York\n",
      "1      Bob   30  Los Angeles\n",
      "2  Charlie   35      Chicago\n"
     ]
    }
   ],
   "source": [
    "\n",
    "#3. Creating a DataFrame\n",
    "#A DataFrame is the heart of pandas. It is like a table with rows and columns, where each column can hold different types of data.\n",
    "#Example of Creating a DataFrame:\n",
    "\n",
    "import pandas as pd\n",
    "\n",
    "# Creating a simple DataFrame\n",
    "data = {\n",
    "    'Name': ['Alice', 'Bob', 'Charlie'],\n",
    "    'Age': [25, 30, 35],\n",
    "    'City': ['New York', 'Los Angeles', 'Chicago']\n",
    "}\n",
    "\n",
    "df = pd.DataFrame(data)\n",
    "\n",
    "print(df)"
   ]
  },
  {
   "cell_type": "code",
   "execution_count": null,
   "id": "d99e33ec",
   "metadata": {},
   "outputs": [],
   "source": [
    "#4. Reading Data from Files (CSV, Excel)\n",
    "#You can load data from various sources (CSV, Excel, etc.) using pandas:\n",
    "\n",
    "#Reading from a CSV file:\n",
    "df = pd.read_csv('data.csv')\n",
    "\n",
    "#Reading from an Excel file:\n",
    "df = pd.read_excel('data.xlsx')\n",
    "\n",
    "# Preview the first few rows of the data\n",
    "print(df.head())  # By default, it shows the first 5 rows"
   ]
  },
  {
   "cell_type": "code",
   "execution_count": null,
   "id": "484b0b75",
   "metadata": {},
   "outputs": [],
   "source": [
    "#5. Basic DataFrame Operations\n",
    "#a. Accessing Columns --> You can access any column in a DataFrame by using its name:\n",
    "# Accessing a column\n",
    "ages = df['Age']\n",
    "print(ages)\n",
    "\n",
    "#b. Selecting Rows --> You can select specific rows using loc (label-based indexing) or iloc (index-based):\n",
    "# Select a row by index (first row)\n",
    "first_row = df.iloc[0]\n",
    "\n",
    "# Select a row by label\n",
    "row_1 = df.loc[0]\n",
    "\n",
    "#c. Filtering Data --> You can filter rows based on conditions:\n",
    "# Filtering rows where age is greater than 30\n",
    "filtered_data = df[df['Age'] > 30]\n",
    "print(filtered_data)\n",
    "\n",
    "#d. Sorting Data --> You can sort data based on any column:\n",
    "# Sorting by Age\n",
    "df_sorted = df.sort_values('Age', ascending=False)\n",
    "print(df_sorted)"
   ]
  },
  {
   "cell_type": "code",
   "execution_count": null,
   "id": "90c85eed",
   "metadata": {},
   "outputs": [],
   "source": [
    "#6. DataFrame Functions\n",
    "#a. Summary Statistics --> Pandas provides useful functions for getting summary statistics:\n",
    "# Summary statistics for numerical columns\n",
    "print(df.describe())\n",
    "\n",
    "# Get info about DataFrame (columns, data types, non-null counts)\n",
    "print(df.info())\n",
    "\n",
    "#b. Missing Data Handling\n",
    "#Pandas allows you to easily handle missing data:\n",
    "# Check for missing values\n",
    "print(df.isnull().sum())\n",
    "\n",
    "# Drop rows with missing values\n",
    "df_clean = df.dropna()\n",
    "\n",
    "# Fill missing values with a specific value\n",
    "df_filled = df.fillna(0)\n",
    "\n",
    "#c. Groupby Operations\n",
    "#You can group data by certain columns and apply functions like sum, mean, count, etc.\n",
    "# Grouping by 'City' and calculating mean age\n",
    "grouped = df.groupby('City')['Age'].mean()\n",
    "print(grouped)"
   ]
  },
  {
   "cell_type": "code",
   "execution_count": null,
   "id": "66f6ef35",
   "metadata": {},
   "outputs": [],
   "source": [
    "#7. Adding, Modifying, and Removing Columns\n",
    "#You can add or modify columns in a DataFrame:\n",
    "\n",
    "#a. Add a New Column\n",
    "# Adding a new column\n",
    "df['Salary'] = [50000, 60000, 70000]\n",
    "print(df)\n",
    "\n",
    "#b. Modify an Existing Column\n",
    "# Modifying a column\n",
    "df['Age'] = df['Age'] + 1  # Adding 1 to each value in the 'Age' column\n",
    "print(df)\n",
    "\n",
    "#c. Remove a Column\n",
    "# Dropping a column\n",
    "df = df.drop('Salary', axis=1)\n",
    "print(df)"
   ]
  },
  {
   "cell_type": "code",
   "execution_count": null,
   "id": "0b4b2516",
   "metadata": {},
   "outputs": [],
   "source": [
    "#8. Saving Data to Files\n",
    "#Once you’ve processed your data, you can save it back to a file:\n",
    "\n",
    "#a. Save to CSV\n",
    "df.to_csv('output.csv', index=False)\n",
    "\n",
    "#b. Save to Excel\n",
    "df.to_excel('output.xlsx', index=False)"
   ]
  },
  {
   "cell_type": "code",
   "execution_count": 2,
   "id": "ce3e4337",
   "metadata": {},
   "outputs": [
    {
     "name": "stdout",
     "output_type": "stream",
     "text": [
      "      Name  Math  Science  English\n",
      "0    Alice    90       85       78\n",
      "1      Bob    80       88       85\n",
      "2  Charlie    70       92       80\n",
      "3    David    85       75       90\n",
      "4      Eva    95       80       88\n"
     ]
    }
   ],
   "source": [
    "#Example Project: Analyzing Student Data\n",
    "#Let's use a small dataset to perform basic data analysis.\n",
    "\n",
    "#Step 1: Create a DataFrame\n",
    "import pandas as pd\n",
    "\n",
    "# Data for students\n",
    "data = {\n",
    "    'Name': ['Alice', 'Bob', 'Charlie', 'David', 'Eva'],\n",
    "    'Math': [90, 80, 70, 85, 95],\n",
    "    'Science': [85, 88, 92, 75, 80],\n",
    "    'English': [78, 85, 80, 90, 88]\n",
    "}\n",
    "\n",
    "df = pd.DataFrame(data)\n",
    "print(df)"
   ]
  },
  {
   "cell_type": "code",
   "execution_count": 3,
   "id": "9c786c92",
   "metadata": {},
   "outputs": [
    {
     "name": "stdout",
     "output_type": "stream",
     "text": [
      "      Name  Math  Science  English    Average\n",
      "0    Alice    90       85       78  84.333333\n",
      "1      Bob    80       88       85  84.333333\n",
      "2  Charlie    70       92       80  80.666667\n",
      "3    David    85       75       90  83.333333\n",
      "4      Eva    95       80       88  87.666667\n"
     ]
    }
   ],
   "source": [
    "#Step 2: Calculate Average Marks for Each Student\n",
    "# Adding a new column 'Average' for the average marks\n",
    "df['Average'] = df[['Math', 'Science', 'English']].mean(axis=1)\n",
    "print(df)"
   ]
  },
  {
   "cell_type": "code",
   "execution_count": 4,
   "id": "ec5baa66",
   "metadata": {},
   "outputs": [
    {
     "name": "stdout",
     "output_type": "stream",
     "text": [
      "Highest Math Scorer: Eva\n",
      "Highest Science Scorer: Charlie\n",
      "Highest English Scorer: David\n"
     ]
    }
   ],
   "source": [
    "#Step 3: Find the Highest Scorer in Each Subject\n",
    "\n",
    "# Find the student with the highest marks in each subject\n",
    "highest_math = df.loc[df['Math'].idxmax()]\n",
    "highest_science = df.loc[df['Science'].idxmax()]\n",
    "highest_english = df.loc[df['English'].idxmax()]\n",
    "\n",
    "print(\"Highest Math Scorer:\", highest_math['Name'])\n",
    "print(\"Highest Science Scorer:\", highest_science['Name'])\n",
    "print(\"Highest English Scorer:\", highest_english['Name'])\n"
   ]
  }
 ],
 "metadata": {
  "kernelspec": {
   "display_name": "Python 3",
   "language": "python",
   "name": "python3"
  },
  "language_info": {
   "codemirror_mode": {
    "name": "ipython",
    "version": 3
   },
   "file_extension": ".py",
   "mimetype": "text/x-python",
   "name": "python",
   "nbconvert_exporter": "python",
   "pygments_lexer": "ipython3",
   "version": "3.12.5"
  }
 },
 "nbformat": 4,
 "nbformat_minor": 5
}
